{
  "nbformat": 4,
  "nbformat_minor": 0,
  "metadata": {
    "colab": {
      "name": "ML Assignments.ipynb",
      "provenance": [],
      "authorship_tag": "ABX9TyPaJyTYC4hMvGjtma8CK/w4",
      "include_colab_link": true
    },
    "kernelspec": {
      "name": "python3",
      "display_name": "Python 3"
    },
    "language_info": {
      "name": "python"
    }
  },
  "cells": [
    {
      "cell_type": "markdown",
      "metadata": {
        "id": "view-in-github",
        "colab_type": "text"
      },
      "source": [
        "<a href=\"https://colab.research.google.com/github/lalit13roy/ML/blob/main/linear_regression.ipynb\" target=\"_parent\"><img src=\"https://colab.research.google.com/assets/colab-badge.svg\" alt=\"Open In Colab\"/></a>"
      ]
    },
    {
      "cell_type": "markdown",
      "source": [
        "The task is to determine weight based on height."
      ],
      "metadata": {
        "id": "lMqszRo_sMrM"
      }
    },
    {
      "cell_type": "markdown",
      "source": [
        "#### Step 1: Check linearity of the spread\n",
        "\n",
        "It is important to verify the linearity of the data before creating the model. To do so, I would like to do a scatter plot of the raw data"
      ],
      "metadata": {
        "id": "Wr5bH9On8L3g"
      }
    },
    {
      "cell_type": "code",
      "source": [
        "# Import important libraries that we will need throughout this program\n",
        "import pandas as pd                   # for dataframe\n",
        "import matplotlib.pyplot as plt       # for plotting"
      ],
      "metadata": {
        "id": "wms2hPxs8hLP"
      },
      "execution_count": 2,
      "outputs": []
    },
    {
      "cell_type": "markdown",
      "source": [
        "**Important: Training independent feature data has to be a 2D array in the linear regression model**"
      ],
      "metadata": {
        "id": "ISuUwKry9FKX"
      }
    },
    {
      "cell_type": "code",
      "execution_count": 7,
      "metadata": {
        "id": "b4-mkmFMsIOQ"
      },
      "outputs": [],
      "source": [
        "# read the raw data from github directly\n",
        "df = pd.read_csv('https://raw.githubusercontent.com/lalit13roy/ML/main/simpleLinearRegression_Height-Weight-Data.csv')\n",
        "\n",
        "# define \n",
        "x = df[['Height']]\n",
        "y = df['Weight']"
      ]
    }
  ]
}